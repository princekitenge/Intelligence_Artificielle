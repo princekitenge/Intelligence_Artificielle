{
 "cells": [
  {
   "cell_type": "markdown",
   "id": "915076ef-820e-4615-ae38-8e85261e6332",
   "metadata": {},
   "source": [
    "# A. IMPORTATION DES LIBRAIRIES"
   ]
  },
  {
   "cell_type": "code",
   "execution_count": 115,
   "id": "a1ce60b3-d7c0-456c-9a08-be526492c856",
   "metadata": {},
   "outputs": [],
   "source": [
    "import numpy as np"
   ]
  },
  {
   "cell_type": "markdown",
   "id": "8fcbdb2c-05ae-4b67-9086-e145aa871589",
   "metadata": {},
   "source": [
    "## 1.1 Tableau a 1 D"
   ]
  },
  {
   "cell_type": "code",
   "execution_count": 116,
   "id": "0ce48276-d6fb-4ddf-86a5-af52736abc30",
   "metadata": {},
   "outputs": [],
   "source": [
    "#creation d'un tableau a 1 D\n",
    "tab_1D = np.array([2,4,6,8,10,12,14])"
   ]
  },
  {
   "cell_type": "code",
   "execution_count": 117,
   "id": "389b72b6-a847-44e4-a837-b934c52db37a",
   "metadata": {},
   "outputs": [
    {
     "name": "stdout",
     "output_type": "stream",
     "text": [
      "Dimension de tableau (7,)\n",
      "type du tableau <class 'numpy.ndarray'>\n",
      "[ 2  4  6  8 10 12 14]\n"
     ]
    }
   ],
   "source": [
    "print(\"Dimension de tableau\", tab_1D.shape)\n",
    "print(\"type du tableau\", type(tab_1D))\n",
    "print(tab_1D)"
   ]
  },
  {
   "cell_type": "markdown",
   "id": "424aa5e7-91be-418a-910d-db82d0eaaab8",
   "metadata": {},
   "source": [
    "## 1.2 Tableau a 2 D"
   ]
  },
  {
   "cell_type": "code",
   "execution_count": 118,
   "id": "b77c043a-f447-440c-8b07-92470624d0a6",
   "metadata": {},
   "outputs": [],
   "source": [
    "# creation d'un tableau a 2D\n",
    "tab_2D = np.array([\n",
    "    [1,3,5,7,8],\n",
    "    [11,33,55,77,88],\n",
    "    [93,72,58,13,81],\n",
    "])    "
   ]
  },
  {
   "cell_type": "code",
   "execution_count": 119,
   "id": "6c6a419f-1e99-4049-ab52-fc4a872a2c13",
   "metadata": {},
   "outputs": [
    {
     "name": "stdout",
     "output_type": "stream",
     "text": [
      "Dimension de tableau (3, 5)\n",
      "type du tableau <class 'numpy.ndarray'>\n",
      "[[ 1  3  5  7  8]\n",
      " [11 33 55 77 88]\n",
      " [93 72 58 13 81]]\n"
     ]
    }
   ],
   "source": [
    "print(\"Dimension de tableau\", tab_2D.shape)\n",
    "print(\"type du tableau\", type(tab_2D))\n",
    "print(tab_2D)"
   ]
  },
  {
   "cell_type": "markdown",
   "id": "e012d51b-1a84-4030-85b7-d55e8c9c652e",
   "metadata": {},
   "source": [
    "## 1.3 Tableau a 3 D"
   ]
  },
  {
   "cell_type": "code",
   "execution_count": 120,
   "id": "e57f021e-81f4-44e5-8ca5-aea2592c7376",
   "metadata": {},
   "outputs": [],
   "source": [
    "# creation d'un tableau 3D\n",
    "tab_3D = np.array([[\n",
    "    [9,7,5,3,1],\n",
    "    [22,55,89,63,31],\n",
    "    [94,75,59,23,81]\n",
    "]])"
   ]
  },
  {
   "cell_type": "code",
   "execution_count": 121,
   "id": "a2a7fa53-8395-44a2-905e-a789e3806760",
   "metadata": {},
   "outputs": [
    {
     "name": "stdout",
     "output_type": "stream",
     "text": [
      "Dimension de tableau (1, 3, 5)\n",
      "type du tableau <class 'numpy.ndarray'>\n",
      "[[[ 9  7  5  3  1]\n",
      "  [22 55 89 63 31]\n",
      "  [94 75 59 23 81]]]\n"
     ]
    }
   ],
   "source": [
    "print(\"Dimension de tableau\", tab_3D.shape)\n",
    "print(\"type du tableau\", type(tab_3D))\n",
    "print(tab_3D)"
   ]
  },
  {
   "cell_type": "markdown",
   "id": "675867a3-a5dc-4e3c-8de2-e771669c0043",
   "metadata": {},
   "source": [
    "## 1.4 Tableau a 4 D"
   ]
  },
  {
   "cell_type": "code",
   "execution_count": 122,
   "id": "bed30d74-dd0f-4ebf-b9e8-abb8e0f5ffcc",
   "metadata": {},
   "outputs": [],
   "source": [
    "# creation d'un tableau 4D\n",
    "tab_4D = np.array([[[\n",
    "    [9,7,5,3,1],\n",
    "    [23,66,75,33,81],\n",
    "    [91,67,15,83,41],\n",
    "]]])"
   ]
  },
  {
   "cell_type": "code",
   "execution_count": 123,
   "id": "c91da9fc-8d62-4bb4-9adb-def06fa10b8d",
   "metadata": {},
   "outputs": [
    {
     "name": "stdout",
     "output_type": "stream",
     "text": [
      "Dimension de tableau (1, 1, 3, 5)\n",
      "type du tableau <class 'numpy.ndarray'>\n",
      "[[[[ 9  7  5  3  1]\n",
      "   [23 66 75 33 81]\n",
      "   [91 67 15 83 41]]]]\n"
     ]
    }
   ],
   "source": [
    "print(\"Dimension de tableau\", tab_4D.shape)\n",
    "print(\"type du tableau\", type(tab_4D))\n",
    "print(tab_4D)"
   ]
  },
  {
   "cell_type": "markdown",
   "id": "4f2653a1-6c8d-4b11-b9d7-fde10cf25da4",
   "metadata": {},
   "source": [
    "# B. OPERATIONS"
   ]
  },
  {
   "cell_type": "code",
   "execution_count": 124,
   "id": "6f82608e-2bf2-4e69-af4e-140edcb452a1",
   "metadata": {},
   "outputs": [],
   "source": [
    "a = np.array([\n",
    "    [2, 4, 6, 8],\n",
    "    [25, 45, 65, 85],\n",
    "])\n",
    "\n",
    "b = np.array([\n",
    "    [20, 40, 60, 80],\n",
    "    [250, 450, 650, 850],\n",
    "])"
   ]
  },
  {
   "cell_type": "code",
   "execution_count": 125,
   "id": "388b25c1-c43e-46f4-9686-ebf6d5f9f486",
   "metadata": {},
   "outputs": [
    {
     "name": "stdout",
     "output_type": "stream",
     "text": [
      "(2, 4)\n",
      "[[ 2  4  6  8]\n",
      " [25 45 65 85]]\n",
      "(2, 4)\n",
      "[[ 20  40  60  80]\n",
      " [250 450 650 850]]\n"
     ]
    }
   ],
   "source": [
    "print(a.shape)\n",
    "print(a)\n",
    "print(b.shape)\n",
    "print(b)"
   ]
  },
  {
   "cell_type": "code",
   "execution_count": 126,
   "id": "53596988-9e4a-4cb4-a2fc-ceea563e0ca0",
   "metadata": {},
   "outputs": [
    {
     "data": {
      "text/plain": [
       "array([[ 22,  44,  66,  88],\n",
       "       [275, 495, 715, 935]])"
      ]
     },
     "execution_count": 126,
     "metadata": {},
     "output_type": "execute_result"
    }
   ],
   "source": [
    "# addition\n",
    "a + b"
   ]
  },
  {
   "cell_type": "code",
   "execution_count": 127,
   "id": "c8981ef7-bce3-49e8-adf0-dce39e2aee08",
   "metadata": {},
   "outputs": [
    {
     "data": {
      "text/plain": [
       "array([[ -18,  -36,  -54,  -72],\n",
       "       [-225, -405, -585, -765]])"
      ]
     },
     "execution_count": 127,
     "metadata": {},
     "output_type": "execute_result"
    }
   ],
   "source": [
    "# soustration\n",
    "a - b"
   ]
  },
  {
   "cell_type": "code",
   "execution_count": 128,
   "id": "c2e70721-6d6d-4d7b-bd5e-91c320d25818",
   "metadata": {},
   "outputs": [
    {
     "data": {
      "text/plain": [
       "array([[   40,   160,   360,   640],\n",
       "       [ 6250, 20250, 42250, 72250]])"
      ]
     },
     "execution_count": 128,
     "metadata": {},
     "output_type": "execute_result"
    }
   ],
   "source": [
    "# multiplication \n",
    "a * b"
   ]
  },
  {
   "cell_type": "code",
   "execution_count": 129,
   "id": "7ff2e52f-6f22-4f20-80e1-aca4847210d2",
   "metadata": {},
   "outputs": [
    {
     "data": {
      "text/plain": [
       "array([[0.1, 0.1, 0.1, 0.1],\n",
       "       [0.1, 0.1, 0.1, 0.1]])"
      ]
     },
     "execution_count": 129,
     "metadata": {},
     "output_type": "execute_result"
    }
   ],
   "source": [
    "# division\n",
    "a / b"
   ]
  },
  {
   "cell_type": "markdown",
   "id": "e8fab4ff-00dc-41d7-9e61-ff18570269ed",
   "metadata": {},
   "source": [
    "# C. MANUPILATION DES DONNEES"
   ]
  },
  {
   "cell_type": "code",
   "execution_count": 130,
   "id": "7bd8d0d2-7c4a-46dc-96e3-8eadb44a670b",
   "metadata": {},
   "outputs": [],
   "source": [
    "# creation d'un dictionnaire \n",
    "info_etudiants = {\n",
    "    'Matricule': '2022020097',\n",
    "    'nom': 'MASIMANGO',\n",
    "    'prenom' : 'PRINCE',\n",
    "    'age' : 23,\n",
    "    'GPA' : 'A'}"
   ]
  },
  {
   "cell_type": "code",
   "execution_count": 131,
   "id": "2cbe8cf9-7e62-4ea8-b19a-d00abaec2ee5",
   "metadata": {},
   "outputs": [
    {
     "data": {
      "text/plain": [
       "{'Matricule': '2022020097',\n",
       " 'nom': 'MASIMANGO',\n",
       " 'prenom': 'PRINCE',\n",
       " 'age': 23,\n",
       " 'GPA': 'A'}"
      ]
     },
     "execution_count": 131,
     "metadata": {},
     "output_type": "execute_result"
    }
   ],
   "source": [
    "info_etudiants"
   ]
  },
  {
   "cell_type": "code",
   "execution_count": 132,
   "id": "6a991ae1-0596-4194-8835-0293e805aff2",
   "metadata": {},
   "outputs": [
    {
     "name": "stdout",
     "output_type": "stream",
     "text": [
      "{'Matricule': '2022020097', 'nom': 'MASIMANGO', 'prenom': 'PRINCE', 'age': 23, 'GPA': 'A'}\n"
     ]
    }
   ],
   "source": [
    "print(info_etudiants)"
   ]
  },
  {
   "cell_type": "code",
   "execution_count": 133,
   "id": "5157e2e6-352d-4cff-8785-4a670fe90cb7",
   "metadata": {},
   "outputs": [],
   "source": [
    "info_tous_les_etudiants_BAC3_GL_IA = { \n",
    "    'Matricule' : ['20220200978','20220200975','20220200258','20220200268','20220300978','20220200582','20220203333','20220200441','20220200312','20220200111'],\n",
    "    'Nom' : ['KITENGE','ILUNGA','BARUANI','KIKUMA','KITWA','MUKINI','KALULA','MASIMANGO','KATSHOMA','BALULA'],\n",
    "    'Prenom' : ['PRINCE','ALPHA','DAN','BARON','REZA','JEANPAUL','MOKA','PRINCES','FISTON','VICTOIRE'],\n",
    "    'Age' : [23, 25, 35, 26, 65, 52, 41, 12, 18, 19],\n",
    "    'GPA' : ['A','B','C','D','S','A','G','H','L','M']}"
   ]
  },
  {
   "cell_type": "code",
   "execution_count": 134,
   "id": "883c8824-1f49-4f83-b54c-c3b618cb3fc8",
   "metadata": {},
   "outputs": [
    {
     "data": {
      "text/plain": [
       "{'Matricule': ['20220200978',\n",
       "  '20220200975',\n",
       "  '20220200258',\n",
       "  '20220200268',\n",
       "  '20220300978',\n",
       "  '20220200582',\n",
       "  '20220203333',\n",
       "  '20220200441',\n",
       "  '20220200312',\n",
       "  '20220200111'],\n",
       " 'Nom': ['KITENGE',\n",
       "  'ILUNGA',\n",
       "  'BARUANI',\n",
       "  'KIKUMA',\n",
       "  'KITWA',\n",
       "  'MUKINI',\n",
       "  'KALULA',\n",
       "  'MASIMANGO',\n",
       "  'KATSHOMA',\n",
       "  'BALULA'],\n",
       " 'Prenom': ['PRINCE',\n",
       "  'ALPHA',\n",
       "  'DAN',\n",
       "  'BARON',\n",
       "  'REZA',\n",
       "  'JEANPAUL',\n",
       "  'MOKA',\n",
       "  'PRINCES',\n",
       "  'FISTON',\n",
       "  'VICTOIRE'],\n",
       " 'Age': [23, 25, 35, 26, 65, 52, 41, 12, 18, 19],\n",
       " 'GPA': ['A', 'B', 'C', 'D', 'S', 'A', 'G', 'H', 'L', 'M']}"
      ]
     },
     "execution_count": 134,
     "metadata": {},
     "output_type": "execute_result"
    }
   ],
   "source": [
    "info_tous_les_etudiants_BAC3_GL_IA"
   ]
  },
  {
   "cell_type": "code",
   "execution_count": 135,
   "id": "0889a0a4-e975-4129-87f4-2165c8307a04",
   "metadata": {},
   "outputs": [
    {
     "name": "stdout",
     "output_type": "stream",
     "text": [
      "{'Matricule': ['20220200978', '20220200975', '20220200258', '20220200268', '20220300978', '20220200582', '20220203333', '20220200441', '20220200312', '20220200111'], 'Nom': ['KITENGE', 'ILUNGA', 'BARUANI', 'KIKUMA', 'KITWA', 'MUKINI', 'KALULA', 'MASIMANGO', 'KATSHOMA', 'BALULA'], 'Prenom': ['PRINCE', 'ALPHA', 'DAN', 'BARON', 'REZA', 'JEANPAUL', 'MOKA', 'PRINCES', 'FISTON', 'VICTOIRE'], 'Age': [23, 25, 35, 26, 65, 52, 41, 12, 18, 19], 'GPA': ['A', 'B', 'C', 'D', 'S', 'A', 'G', 'H', 'L', 'M']}\n"
     ]
    }
   ],
   "source": [
    "print(info_tous_les_etudiants_BAC3_GL_IA)"
   ]
  },
  {
   "cell_type": "code",
   "execution_count": 136,
   "id": "a7e810aa-3b71-451c-8080-b1fb9e55dfbe",
   "metadata": {},
   "outputs": [],
   "source": [
    "# importer Pandas\n",
    "import pandas as pd"
   ]
  },
  {
   "cell_type": "code",
   "execution_count": 137,
   "id": "2f931001-a905-4e35-a887-8b7d9e0dda09",
   "metadata": {},
   "outputs": [],
   "source": [
    "donnees_etudiants = pd. DataFrame(info_tous_les_etudiants_BAC3_GL_IA)"
   ]
  },
  {
   "cell_type": "code",
   "execution_count": 138,
   "id": "989fa2f6-df9c-46dd-bdac-d97dbba56e1e",
   "metadata": {},
   "outputs": [
    {
     "data": {
      "text/html": [
       "<div>\n",
       "<style scoped>\n",
       "    .dataframe tbody tr th:only-of-type {\n",
       "        vertical-align: middle;\n",
       "    }\n",
       "\n",
       "    .dataframe tbody tr th {\n",
       "        vertical-align: top;\n",
       "    }\n",
       "\n",
       "    .dataframe thead th {\n",
       "        text-align: right;\n",
       "    }\n",
       "</style>\n",
       "<table border=\"1\" class=\"dataframe\">\n",
       "  <thead>\n",
       "    <tr style=\"text-align: right;\">\n",
       "      <th></th>\n",
       "      <th>Matricule</th>\n",
       "      <th>Nom</th>\n",
       "      <th>Prenom</th>\n",
       "      <th>Age</th>\n",
       "      <th>GPA</th>\n",
       "    </tr>\n",
       "  </thead>\n",
       "  <tbody>\n",
       "    <tr>\n",
       "      <th>0</th>\n",
       "      <td>20220200978</td>\n",
       "      <td>KITENGE</td>\n",
       "      <td>PRINCE</td>\n",
       "      <td>23</td>\n",
       "      <td>A</td>\n",
       "    </tr>\n",
       "    <tr>\n",
       "      <th>1</th>\n",
       "      <td>20220200975</td>\n",
       "      <td>ILUNGA</td>\n",
       "      <td>ALPHA</td>\n",
       "      <td>25</td>\n",
       "      <td>B</td>\n",
       "    </tr>\n",
       "    <tr>\n",
       "      <th>2</th>\n",
       "      <td>20220200258</td>\n",
       "      <td>BARUANI</td>\n",
       "      <td>DAN</td>\n",
       "      <td>35</td>\n",
       "      <td>C</td>\n",
       "    </tr>\n",
       "    <tr>\n",
       "      <th>3</th>\n",
       "      <td>20220200268</td>\n",
       "      <td>KIKUMA</td>\n",
       "      <td>BARON</td>\n",
       "      <td>26</td>\n",
       "      <td>D</td>\n",
       "    </tr>\n",
       "    <tr>\n",
       "      <th>4</th>\n",
       "      <td>20220300978</td>\n",
       "      <td>KITWA</td>\n",
       "      <td>REZA</td>\n",
       "      <td>65</td>\n",
       "      <td>S</td>\n",
       "    </tr>\n",
       "    <tr>\n",
       "      <th>5</th>\n",
       "      <td>20220200582</td>\n",
       "      <td>MUKINI</td>\n",
       "      <td>JEANPAUL</td>\n",
       "      <td>52</td>\n",
       "      <td>A</td>\n",
       "    </tr>\n",
       "    <tr>\n",
       "      <th>6</th>\n",
       "      <td>20220203333</td>\n",
       "      <td>KALULA</td>\n",
       "      <td>MOKA</td>\n",
       "      <td>41</td>\n",
       "      <td>G</td>\n",
       "    </tr>\n",
       "    <tr>\n",
       "      <th>7</th>\n",
       "      <td>20220200441</td>\n",
       "      <td>MASIMANGO</td>\n",
       "      <td>PRINCES</td>\n",
       "      <td>12</td>\n",
       "      <td>H</td>\n",
       "    </tr>\n",
       "    <tr>\n",
       "      <th>8</th>\n",
       "      <td>20220200312</td>\n",
       "      <td>KATSHOMA</td>\n",
       "      <td>FISTON</td>\n",
       "      <td>18</td>\n",
       "      <td>L</td>\n",
       "    </tr>\n",
       "    <tr>\n",
       "      <th>9</th>\n",
       "      <td>20220200111</td>\n",
       "      <td>BALULA</td>\n",
       "      <td>VICTOIRE</td>\n",
       "      <td>19</td>\n",
       "      <td>M</td>\n",
       "    </tr>\n",
       "  </tbody>\n",
       "</table>\n",
       "</div>"
      ],
      "text/plain": [
       "     Matricule        Nom    Prenom  Age GPA\n",
       "0  20220200978    KITENGE    PRINCE   23   A\n",
       "1  20220200975     ILUNGA     ALPHA   25   B\n",
       "2  20220200258    BARUANI       DAN   35   C\n",
       "3  20220200268     KIKUMA     BARON   26   D\n",
       "4  20220300978      KITWA      REZA   65   S\n",
       "5  20220200582     MUKINI  JEANPAUL   52   A\n",
       "6  20220203333     KALULA      MOKA   41   G\n",
       "7  20220200441  MASIMANGO   PRINCES   12   H\n",
       "8  20220200312   KATSHOMA    FISTON   18   L\n",
       "9  20220200111     BALULA  VICTOIRE   19   M"
      ]
     },
     "execution_count": 138,
     "metadata": {},
     "output_type": "execute_result"
    }
   ],
   "source": [
    "donnees_etudiants"
   ]
  },
  {
   "cell_type": "code",
   "execution_count": 139,
   "id": "b66bb900-c7c2-40be-80fb-32fdc3cc671c",
   "metadata": {},
   "outputs": [
    {
     "data": {
      "text/html": [
       "<div>\n",
       "<style scoped>\n",
       "    .dataframe tbody tr th:only-of-type {\n",
       "        vertical-align: middle;\n",
       "    }\n",
       "\n",
       "    .dataframe tbody tr th {\n",
       "        vertical-align: top;\n",
       "    }\n",
       "\n",
       "    .dataframe thead th {\n",
       "        text-align: right;\n",
       "    }\n",
       "</style>\n",
       "<table border=\"1\" class=\"dataframe\">\n",
       "  <thead>\n",
       "    <tr style=\"text-align: right;\">\n",
       "      <th></th>\n",
       "      <th>Matricule</th>\n",
       "      <th>Nom</th>\n",
       "      <th>Prenom</th>\n",
       "      <th>Age</th>\n",
       "      <th>GPA</th>\n",
       "    </tr>\n",
       "  </thead>\n",
       "  <tbody>\n",
       "    <tr>\n",
       "      <th>8</th>\n",
       "      <td>20220200312</td>\n",
       "      <td>KATSHOMA</td>\n",
       "      <td>FISTON</td>\n",
       "      <td>18</td>\n",
       "      <td>L</td>\n",
       "    </tr>\n",
       "    <tr>\n",
       "      <th>9</th>\n",
       "      <td>20220200111</td>\n",
       "      <td>BALULA</td>\n",
       "      <td>VICTOIRE</td>\n",
       "      <td>19</td>\n",
       "      <td>M</td>\n",
       "    </tr>\n",
       "  </tbody>\n",
       "</table>\n",
       "</div>"
      ],
      "text/plain": [
       "     Matricule       Nom    Prenom  Age GPA\n",
       "8  20220200312  KATSHOMA    FISTON   18   L\n",
       "9  20220200111    BALULA  VICTOIRE   19   M"
      ]
     },
     "execution_count": 139,
     "metadata": {},
     "output_type": "execute_result"
    }
   ],
   "source": [
    "donnees_etudiants.tail(2)"
   ]
  },
  {
   "cell_type": "code",
   "execution_count": 140,
   "id": "d27a9f2c-2d98-4f3b-8577-5530408d16a8",
   "metadata": {},
   "outputs": [
    {
     "name": "stdout",
     "output_type": "stream",
     "text": [
      "     Matricule        Nom    Prenom  Age GPA\n",
      "0  20220200978    KITENGE    PRINCE   23   A\n",
      "1  20220200975     ILUNGA     ALPHA   25   B\n",
      "2  20220200258    BARUANI       DAN   35   C\n",
      "3  20220200268     KIKUMA     BARON   26   D\n",
      "4  20220300978      KITWA      REZA   65   S\n",
      "5  20220200582     MUKINI  JEANPAUL   52   A\n",
      "6  20220203333     KALULA      MOKA   41   G\n",
      "7  20220200441  MASIMANGO   PRINCES   12   H\n",
      "8  20220200312   KATSHOMA    FISTON   18   L\n",
      "9  20220200111     BALULA  VICTOIRE   19   M\n"
     ]
    }
   ],
   "source": [
    "print(donnees_etudiants)"
   ]
  },
  {
   "cell_type": "code",
   "execution_count": 141,
   "id": "7ab03025-0861-45c7-b478-6dc3c1e71a5a",
   "metadata": {},
   "outputs": [
    {
     "data": {
      "text/html": [
       "<div>\n",
       "<style scoped>\n",
       "    .dataframe tbody tr th:only-of-type {\n",
       "        vertical-align: middle;\n",
       "    }\n",
       "\n",
       "    .dataframe tbody tr th {\n",
       "        vertical-align: top;\n",
       "    }\n",
       "\n",
       "    .dataframe thead th {\n",
       "        text-align: right;\n",
       "    }\n",
       "</style>\n",
       "<table border=\"1\" class=\"dataframe\">\n",
       "  <thead>\n",
       "    <tr style=\"text-align: right;\">\n",
       "      <th></th>\n",
       "      <th>Matricule</th>\n",
       "      <th>Nom</th>\n",
       "      <th>Prenom</th>\n",
       "      <th>Age</th>\n",
       "      <th>GPA</th>\n",
       "    </tr>\n",
       "  </thead>\n",
       "  <tbody>\n",
       "    <tr>\n",
       "      <th>0</th>\n",
       "      <td>20220200978</td>\n",
       "      <td>KITENGE</td>\n",
       "      <td>PRINCE</td>\n",
       "      <td>23</td>\n",
       "      <td>A</td>\n",
       "    </tr>\n",
       "    <tr>\n",
       "      <th>1</th>\n",
       "      <td>20220200975</td>\n",
       "      <td>ILUNGA</td>\n",
       "      <td>ALPHA</td>\n",
       "      <td>25</td>\n",
       "      <td>B</td>\n",
       "    </tr>\n",
       "    <tr>\n",
       "      <th>2</th>\n",
       "      <td>20220200258</td>\n",
       "      <td>BARUANI</td>\n",
       "      <td>DAN</td>\n",
       "      <td>35</td>\n",
       "      <td>C</td>\n",
       "    </tr>\n",
       "  </tbody>\n",
       "</table>\n",
       "</div>"
      ],
      "text/plain": [
       "     Matricule      Nom  Prenom  Age GPA\n",
       "0  20220200978  KITENGE  PRINCE   23   A\n",
       "1  20220200975   ILUNGA   ALPHA   25   B\n",
       "2  20220200258  BARUANI     DAN   35   C"
      ]
     },
     "execution_count": 141,
     "metadata": {},
     "output_type": "execute_result"
    }
   ],
   "source": [
    "donnees_etudiants.head(3)"
   ]
  },
  {
   "cell_type": "code",
   "execution_count": 142,
   "id": "b5f5eeca-8b92-41e3-b9c0-a7fc7cf4c88b",
   "metadata": {},
   "outputs": [
    {
     "data": {
      "text/plain": [
       "0    20220200978\n",
       "1    20220200975\n",
       "2    20220200258\n",
       "3    20220200268\n",
       "4    20220300978\n",
       "5    20220200582\n",
       "6    20220203333\n",
       "7    20220200441\n",
       "8    20220200312\n",
       "9    20220200111\n",
       "Name: Matricule, dtype: object"
      ]
     },
     "execution_count": 142,
     "metadata": {},
     "output_type": "execute_result"
    }
   ],
   "source": [
    "donnees_etudiants['Matricule']"
   ]
  },
  {
   "cell_type": "code",
   "execution_count": 143,
   "id": "983620d9-a161-4d39-ba75-0692b8f92568",
   "metadata": {},
   "outputs": [
    {
     "data": {
      "text/html": [
       "<div>\n",
       "<style scoped>\n",
       "    .dataframe tbody tr th:only-of-type {\n",
       "        vertical-align: middle;\n",
       "    }\n",
       "\n",
       "    .dataframe tbody tr th {\n",
       "        vertical-align: top;\n",
       "    }\n",
       "\n",
       "    .dataframe thead th {\n",
       "        text-align: right;\n",
       "    }\n",
       "</style>\n",
       "<table border=\"1\" class=\"dataframe\">\n",
       "  <thead>\n",
       "    <tr style=\"text-align: right;\">\n",
       "      <th></th>\n",
       "      <th>Matricule</th>\n",
       "      <th>Nom</th>\n",
       "    </tr>\n",
       "  </thead>\n",
       "  <tbody>\n",
       "    <tr>\n",
       "      <th>0</th>\n",
       "      <td>20220200978</td>\n",
       "      <td>KITENGE</td>\n",
       "    </tr>\n",
       "    <tr>\n",
       "      <th>1</th>\n",
       "      <td>20220200975</td>\n",
       "      <td>ILUNGA</td>\n",
       "    </tr>\n",
       "    <tr>\n",
       "      <th>2</th>\n",
       "      <td>20220200258</td>\n",
       "      <td>BARUANI</td>\n",
       "    </tr>\n",
       "    <tr>\n",
       "      <th>3</th>\n",
       "      <td>20220200268</td>\n",
       "      <td>KIKUMA</td>\n",
       "    </tr>\n",
       "    <tr>\n",
       "      <th>4</th>\n",
       "      <td>20220300978</td>\n",
       "      <td>KITWA</td>\n",
       "    </tr>\n",
       "    <tr>\n",
       "      <th>5</th>\n",
       "      <td>20220200582</td>\n",
       "      <td>MUKINI</td>\n",
       "    </tr>\n",
       "    <tr>\n",
       "      <th>6</th>\n",
       "      <td>20220203333</td>\n",
       "      <td>KALULA</td>\n",
       "    </tr>\n",
       "    <tr>\n",
       "      <th>7</th>\n",
       "      <td>20220200441</td>\n",
       "      <td>MASIMANGO</td>\n",
       "    </tr>\n",
       "    <tr>\n",
       "      <th>8</th>\n",
       "      <td>20220200312</td>\n",
       "      <td>KATSHOMA</td>\n",
       "    </tr>\n",
       "    <tr>\n",
       "      <th>9</th>\n",
       "      <td>20220200111</td>\n",
       "      <td>BALULA</td>\n",
       "    </tr>\n",
       "  </tbody>\n",
       "</table>\n",
       "</div>"
      ],
      "text/plain": [
       "     Matricule        Nom\n",
       "0  20220200978    KITENGE\n",
       "1  20220200975     ILUNGA\n",
       "2  20220200258    BARUANI\n",
       "3  20220200268     KIKUMA\n",
       "4  20220300978      KITWA\n",
       "5  20220200582     MUKINI\n",
       "6  20220203333     KALULA\n",
       "7  20220200441  MASIMANGO\n",
       "8  20220200312   KATSHOMA\n",
       "9  20220200111     BALULA"
      ]
     },
     "execution_count": 143,
     "metadata": {},
     "output_type": "execute_result"
    }
   ],
   "source": [
    "donnees_etudiants[['Matricule','Nom']]"
   ]
  },
  {
   "cell_type": "code",
   "execution_count": 144,
   "id": "55102583-aa53-4204-9006-6e044b22da96",
   "metadata": {},
   "outputs": [
    {
     "data": {
      "text/plain": [
       "Matricule    20220200258\n",
       "Nom              BARUANI\n",
       "Prenom               DAN\n",
       "Age                   35\n",
       "GPA                    C\n",
       "Name: 2, dtype: object"
      ]
     },
     "execution_count": 144,
     "metadata": {},
     "output_type": "execute_result"
    }
   ],
   "source": [
    "donnees_etudiants.iloc[2]"
   ]
  },
  {
   "cell_type": "code",
   "execution_count": 145,
   "id": "11857461-9477-491c-8b8f-fed737bfa239",
   "metadata": {},
   "outputs": [
    {
     "data": {
      "text/html": [
       "<div>\n",
       "<style scoped>\n",
       "    .dataframe tbody tr th:only-of-type {\n",
       "        vertical-align: middle;\n",
       "    }\n",
       "\n",
       "    .dataframe tbody tr th {\n",
       "        vertical-align: top;\n",
       "    }\n",
       "\n",
       "    .dataframe thead th {\n",
       "        text-align: right;\n",
       "    }\n",
       "</style>\n",
       "<table border=\"1\" class=\"dataframe\">\n",
       "  <thead>\n",
       "    <tr style=\"text-align: right;\">\n",
       "      <th></th>\n",
       "      <th>Matricule</th>\n",
       "      <th>Nom</th>\n",
       "      <th>Prenom</th>\n",
       "      <th>Age</th>\n",
       "      <th>GPA</th>\n",
       "    </tr>\n",
       "  </thead>\n",
       "  <tbody>\n",
       "    <tr>\n",
       "      <th>0</th>\n",
       "      <td>20220200978</td>\n",
       "      <td>KITENGE</td>\n",
       "      <td>PRINCE</td>\n",
       "      <td>23</td>\n",
       "      <td>A</td>\n",
       "    </tr>\n",
       "    <tr>\n",
       "      <th>1</th>\n",
       "      <td>20220200975</td>\n",
       "      <td>ILUNGA</td>\n",
       "      <td>ALPHA</td>\n",
       "      <td>25</td>\n",
       "      <td>B</td>\n",
       "    </tr>\n",
       "    <tr>\n",
       "      <th>2</th>\n",
       "      <td>20220200258</td>\n",
       "      <td>BARUANI</td>\n",
       "      <td>DAN</td>\n",
       "      <td>35</td>\n",
       "      <td>C</td>\n",
       "    </tr>\n",
       "    <tr>\n",
       "      <th>3</th>\n",
       "      <td>20220200268</td>\n",
       "      <td>KIKUMA</td>\n",
       "      <td>BARON</td>\n",
       "      <td>26</td>\n",
       "      <td>D</td>\n",
       "    </tr>\n",
       "    <tr>\n",
       "      <th>4</th>\n",
       "      <td>20220300978</td>\n",
       "      <td>KITWA</td>\n",
       "      <td>REZA</td>\n",
       "      <td>65</td>\n",
       "      <td>S</td>\n",
       "    </tr>\n",
       "    <tr>\n",
       "      <th>5</th>\n",
       "      <td>20220200582</td>\n",
       "      <td>MUKINI</td>\n",
       "      <td>JEANPAUL</td>\n",
       "      <td>52</td>\n",
       "      <td>A</td>\n",
       "    </tr>\n",
       "    <tr>\n",
       "      <th>6</th>\n",
       "      <td>20220203333</td>\n",
       "      <td>KALULA</td>\n",
       "      <td>MOKA</td>\n",
       "      <td>41</td>\n",
       "      <td>G</td>\n",
       "    </tr>\n",
       "    <tr>\n",
       "      <th>7</th>\n",
       "      <td>20220200441</td>\n",
       "      <td>MASIMANGO</td>\n",
       "      <td>PRINCES</td>\n",
       "      <td>12</td>\n",
       "      <td>H</td>\n",
       "    </tr>\n",
       "    <tr>\n",
       "      <th>8</th>\n",
       "      <td>20220200312</td>\n",
       "      <td>KATSHOMA</td>\n",
       "      <td>FISTON</td>\n",
       "      <td>18</td>\n",
       "      <td>L</td>\n",
       "    </tr>\n",
       "    <tr>\n",
       "      <th>9</th>\n",
       "      <td>20220200111</td>\n",
       "      <td>BALULA</td>\n",
       "      <td>VICTOIRE</td>\n",
       "      <td>19</td>\n",
       "      <td>M</td>\n",
       "    </tr>\n",
       "  </tbody>\n",
       "</table>\n",
       "</div>"
      ],
      "text/plain": [
       "     Matricule        Nom    Prenom  Age GPA\n",
       "0  20220200978    KITENGE    PRINCE   23   A\n",
       "1  20220200975     ILUNGA     ALPHA   25   B\n",
       "2  20220200258    BARUANI       DAN   35   C\n",
       "3  20220200268     KIKUMA     BARON   26   D\n",
       "4  20220300978      KITWA      REZA   65   S\n",
       "5  20220200582     MUKINI  JEANPAUL   52   A\n",
       "6  20220203333     KALULA      MOKA   41   G\n",
       "7  20220200441  MASIMANGO   PRINCES   12   H\n",
       "8  20220200312   KATSHOMA    FISTON   18   L\n",
       "9  20220200111     BALULA  VICTOIRE   19   M"
      ]
     },
     "execution_count": 145,
     "metadata": {},
     "output_type": "execute_result"
    }
   ],
   "source": [
    "donnees_etudiants.iloc[:,:]"
   ]
  },
  {
   "cell_type": "code",
   "execution_count": 146,
   "id": "2e0ecc0e-0cb7-446f-959a-47ed69c6a6d5",
   "metadata": {},
   "outputs": [
    {
     "data": {
      "text/html": [
       "<div>\n",
       "<style scoped>\n",
       "    .dataframe tbody tr th:only-of-type {\n",
       "        vertical-align: middle;\n",
       "    }\n",
       "\n",
       "    .dataframe tbody tr th {\n",
       "        vertical-align: top;\n",
       "    }\n",
       "\n",
       "    .dataframe thead th {\n",
       "        text-align: right;\n",
       "    }\n",
       "</style>\n",
       "<table border=\"1\" class=\"dataframe\">\n",
       "  <thead>\n",
       "    <tr style=\"text-align: right;\">\n",
       "      <th></th>\n",
       "      <th>Matricule</th>\n",
       "      <th>Nom</th>\n",
       "      <th>Prenom</th>\n",
       "      <th>Age</th>\n",
       "      <th>GPA</th>\n",
       "    </tr>\n",
       "  </thead>\n",
       "  <tbody>\n",
       "    <tr>\n",
       "      <th>2</th>\n",
       "      <td>20220200258</td>\n",
       "      <td>BARUANI</td>\n",
       "      <td>DAN</td>\n",
       "      <td>35</td>\n",
       "      <td>C</td>\n",
       "    </tr>\n",
       "  </tbody>\n",
       "</table>\n",
       "</div>"
      ],
      "text/plain": [
       "     Matricule      Nom Prenom  Age GPA\n",
       "2  20220200258  BARUANI    DAN   35   C"
      ]
     },
     "execution_count": 146,
     "metadata": {},
     "output_type": "execute_result"
    }
   ],
   "source": [
    "donnees_etudiants.iloc[2:3,:]"
   ]
  },
  {
   "cell_type": "code",
   "execution_count": 147,
   "id": "957bd0bc-7e05-4c10-b003-ced616679aac",
   "metadata": {},
   "outputs": [
    {
     "data": {
      "text/html": [
       "<div>\n",
       "<style scoped>\n",
       "    .dataframe tbody tr th:only-of-type {\n",
       "        vertical-align: middle;\n",
       "    }\n",
       "\n",
       "    .dataframe tbody tr th {\n",
       "        vertical-align: top;\n",
       "    }\n",
       "\n",
       "    .dataframe thead th {\n",
       "        text-align: right;\n",
       "    }\n",
       "</style>\n",
       "<table border=\"1\" class=\"dataframe\">\n",
       "  <thead>\n",
       "    <tr style=\"text-align: right;\">\n",
       "      <th></th>\n",
       "      <th>Age</th>\n",
       "    </tr>\n",
       "  </thead>\n",
       "  <tbody>\n",
       "    <tr>\n",
       "      <th>0</th>\n",
       "      <td>23</td>\n",
       "    </tr>\n",
       "    <tr>\n",
       "      <th>1</th>\n",
       "      <td>25</td>\n",
       "    </tr>\n",
       "    <tr>\n",
       "      <th>2</th>\n",
       "      <td>35</td>\n",
       "    </tr>\n",
       "    <tr>\n",
       "      <th>3</th>\n",
       "      <td>26</td>\n",
       "    </tr>\n",
       "    <tr>\n",
       "      <th>4</th>\n",
       "      <td>65</td>\n",
       "    </tr>\n",
       "    <tr>\n",
       "      <th>5</th>\n",
       "      <td>52</td>\n",
       "    </tr>\n",
       "    <tr>\n",
       "      <th>6</th>\n",
       "      <td>41</td>\n",
       "    </tr>\n",
       "    <tr>\n",
       "      <th>7</th>\n",
       "      <td>12</td>\n",
       "    </tr>\n",
       "    <tr>\n",
       "      <th>8</th>\n",
       "      <td>18</td>\n",
       "    </tr>\n",
       "    <tr>\n",
       "      <th>9</th>\n",
       "      <td>19</td>\n",
       "    </tr>\n",
       "  </tbody>\n",
       "</table>\n",
       "</div>"
      ],
      "text/plain": [
       "   Age\n",
       "0   23\n",
       "1   25\n",
       "2   35\n",
       "3   26\n",
       "4   65\n",
       "5   52\n",
       "6   41\n",
       "7   12\n",
       "8   18\n",
       "9   19"
      ]
     },
     "execution_count": 147,
     "metadata": {},
     "output_type": "execute_result"
    }
   ],
   "source": [
    "donnees_etudiants.iloc[:,3:4]"
   ]
  },
  {
   "cell_type": "code",
   "execution_count": 148,
   "id": "416dc757-0570-4ca8-91c1-889e42944998",
   "metadata": {},
   "outputs": [
    {
     "data": {
      "text/html": [
       "<div>\n",
       "<style scoped>\n",
       "    .dataframe tbody tr th:only-of-type {\n",
       "        vertical-align: middle;\n",
       "    }\n",
       "\n",
       "    .dataframe tbody tr th {\n",
       "        vertical-align: top;\n",
       "    }\n",
       "\n",
       "    .dataframe thead th {\n",
       "        text-align: right;\n",
       "    }\n",
       "</style>\n",
       "<table border=\"1\" class=\"dataframe\">\n",
       "  <thead>\n",
       "    <tr style=\"text-align: right;\">\n",
       "      <th></th>\n",
       "      <th>Nom</th>\n",
       "    </tr>\n",
       "  </thead>\n",
       "  <tbody>\n",
       "    <tr>\n",
       "      <th>1</th>\n",
       "      <td>ILUNGA</td>\n",
       "    </tr>\n",
       "  </tbody>\n",
       "</table>\n",
       "</div>"
      ],
      "text/plain": [
       "      Nom\n",
       "1  ILUNGA"
      ]
     },
     "execution_count": 148,
     "metadata": {},
     "output_type": "execute_result"
    }
   ],
   "source": [
    "donnees_etudiants.iloc[1:2,1:2]"
   ]
  },
  {
   "cell_type": "code",
   "execution_count": 149,
   "id": "c04b8075-5442-4b12-b177-c80ef25f651e",
   "metadata": {},
   "outputs": [],
   "source": [
    "# ajouter les colonnes \n",
    "donnees_etudiants['Genre'] = ['M', 'F','M','F','M','M','F','M','F','M']\n",
    "donnees_etudiants['Pourcentage'] = [62, 70,52,25,56,65,77,78,54,65]"
   ]
  },
  {
   "cell_type": "code",
   "execution_count": 150,
   "id": "d6765fe4-d1ca-422f-8ba1-17b98ca18607",
   "metadata": {},
   "outputs": [
    {
     "data": {
      "text/html": [
       "<div>\n",
       "<style scoped>\n",
       "    .dataframe tbody tr th:only-of-type {\n",
       "        vertical-align: middle;\n",
       "    }\n",
       "\n",
       "    .dataframe tbody tr th {\n",
       "        vertical-align: top;\n",
       "    }\n",
       "\n",
       "    .dataframe thead th {\n",
       "        text-align: right;\n",
       "    }\n",
       "</style>\n",
       "<table border=\"1\" class=\"dataframe\">\n",
       "  <thead>\n",
       "    <tr style=\"text-align: right;\">\n",
       "      <th></th>\n",
       "      <th>Matricule</th>\n",
       "      <th>Nom</th>\n",
       "      <th>Prenom</th>\n",
       "      <th>Age</th>\n",
       "      <th>GPA</th>\n",
       "      <th>Genre</th>\n",
       "      <th>Pourcentage</th>\n",
       "    </tr>\n",
       "  </thead>\n",
       "  <tbody>\n",
       "    <tr>\n",
       "      <th>0</th>\n",
       "      <td>20220200978</td>\n",
       "      <td>KITENGE</td>\n",
       "      <td>PRINCE</td>\n",
       "      <td>23</td>\n",
       "      <td>A</td>\n",
       "      <td>M</td>\n",
       "      <td>62</td>\n",
       "    </tr>\n",
       "    <tr>\n",
       "      <th>1</th>\n",
       "      <td>20220200975</td>\n",
       "      <td>ILUNGA</td>\n",
       "      <td>ALPHA</td>\n",
       "      <td>25</td>\n",
       "      <td>B</td>\n",
       "      <td>F</td>\n",
       "      <td>70</td>\n",
       "    </tr>\n",
       "    <tr>\n",
       "      <th>2</th>\n",
       "      <td>20220200258</td>\n",
       "      <td>BARUANI</td>\n",
       "      <td>DAN</td>\n",
       "      <td>35</td>\n",
       "      <td>C</td>\n",
       "      <td>M</td>\n",
       "      <td>52</td>\n",
       "    </tr>\n",
       "    <tr>\n",
       "      <th>3</th>\n",
       "      <td>20220200268</td>\n",
       "      <td>KIKUMA</td>\n",
       "      <td>BARON</td>\n",
       "      <td>26</td>\n",
       "      <td>D</td>\n",
       "      <td>F</td>\n",
       "      <td>25</td>\n",
       "    </tr>\n",
       "    <tr>\n",
       "      <th>4</th>\n",
       "      <td>20220300978</td>\n",
       "      <td>KITWA</td>\n",
       "      <td>REZA</td>\n",
       "      <td>65</td>\n",
       "      <td>S</td>\n",
       "      <td>M</td>\n",
       "      <td>56</td>\n",
       "    </tr>\n",
       "    <tr>\n",
       "      <th>5</th>\n",
       "      <td>20220200582</td>\n",
       "      <td>MUKINI</td>\n",
       "      <td>JEANPAUL</td>\n",
       "      <td>52</td>\n",
       "      <td>A</td>\n",
       "      <td>M</td>\n",
       "      <td>65</td>\n",
       "    </tr>\n",
       "    <tr>\n",
       "      <th>6</th>\n",
       "      <td>20220203333</td>\n",
       "      <td>KALULA</td>\n",
       "      <td>MOKA</td>\n",
       "      <td>41</td>\n",
       "      <td>G</td>\n",
       "      <td>F</td>\n",
       "      <td>77</td>\n",
       "    </tr>\n",
       "    <tr>\n",
       "      <th>7</th>\n",
       "      <td>20220200441</td>\n",
       "      <td>MASIMANGO</td>\n",
       "      <td>PRINCES</td>\n",
       "      <td>12</td>\n",
       "      <td>H</td>\n",
       "      <td>M</td>\n",
       "      <td>78</td>\n",
       "    </tr>\n",
       "    <tr>\n",
       "      <th>8</th>\n",
       "      <td>20220200312</td>\n",
       "      <td>KATSHOMA</td>\n",
       "      <td>FISTON</td>\n",
       "      <td>18</td>\n",
       "      <td>L</td>\n",
       "      <td>F</td>\n",
       "      <td>54</td>\n",
       "    </tr>\n",
       "    <tr>\n",
       "      <th>9</th>\n",
       "      <td>20220200111</td>\n",
       "      <td>BALULA</td>\n",
       "      <td>VICTOIRE</td>\n",
       "      <td>19</td>\n",
       "      <td>M</td>\n",
       "      <td>M</td>\n",
       "      <td>65</td>\n",
       "    </tr>\n",
       "  </tbody>\n",
       "</table>\n",
       "</div>"
      ],
      "text/plain": [
       "     Matricule        Nom    Prenom  Age GPA Genre  Pourcentage\n",
       "0  20220200978    KITENGE    PRINCE   23   A     M           62\n",
       "1  20220200975     ILUNGA     ALPHA   25   B     F           70\n",
       "2  20220200258    BARUANI       DAN   35   C     M           52\n",
       "3  20220200268     KIKUMA     BARON   26   D     F           25\n",
       "4  20220300978      KITWA      REZA   65   S     M           56\n",
       "5  20220200582     MUKINI  JEANPAUL   52   A     M           65\n",
       "6  20220203333     KALULA      MOKA   41   G     F           77\n",
       "7  20220200441  MASIMANGO   PRINCES   12   H     M           78\n",
       "8  20220200312   KATSHOMA    FISTON   18   L     F           54\n",
       "9  20220200111     BALULA  VICTOIRE   19   M     M           65"
      ]
     },
     "execution_count": 150,
     "metadata": {},
     "output_type": "execute_result"
    }
   ],
   "source": [
    "donnees_etudiants"
   ]
  },
  {
   "cell_type": "code",
   "execution_count": 151,
   "id": "0d247466-c51b-44ce-81c3-9300c1ef3384",
   "metadata": {},
   "outputs": [],
   "source": [
    "# supprimer la colonne GPA\n",
    "donnees_etudiants.drop(columns='GPA', inplace=True, axis=1)"
   ]
  },
  {
   "cell_type": "code",
   "execution_count": 152,
   "id": "641d5a00-8cb0-4b09-b254-55450511cc3f",
   "metadata": {},
   "outputs": [
    {
     "data": {
      "text/html": [
       "<div>\n",
       "<style scoped>\n",
       "    .dataframe tbody tr th:only-of-type {\n",
       "        vertical-align: middle;\n",
       "    }\n",
       "\n",
       "    .dataframe tbody tr th {\n",
       "        vertical-align: top;\n",
       "    }\n",
       "\n",
       "    .dataframe thead th {\n",
       "        text-align: right;\n",
       "    }\n",
       "</style>\n",
       "<table border=\"1\" class=\"dataframe\">\n",
       "  <thead>\n",
       "    <tr style=\"text-align: right;\">\n",
       "      <th></th>\n",
       "      <th>Matricule</th>\n",
       "      <th>Nom</th>\n",
       "      <th>Prenom</th>\n",
       "      <th>Age</th>\n",
       "      <th>Genre</th>\n",
       "      <th>Pourcentage</th>\n",
       "    </tr>\n",
       "  </thead>\n",
       "  <tbody>\n",
       "    <tr>\n",
       "      <th>0</th>\n",
       "      <td>20220200978</td>\n",
       "      <td>KITENGE</td>\n",
       "      <td>PRINCE</td>\n",
       "      <td>23</td>\n",
       "      <td>M</td>\n",
       "      <td>62</td>\n",
       "    </tr>\n",
       "    <tr>\n",
       "      <th>1</th>\n",
       "      <td>20220200975</td>\n",
       "      <td>ILUNGA</td>\n",
       "      <td>ALPHA</td>\n",
       "      <td>25</td>\n",
       "      <td>F</td>\n",
       "      <td>70</td>\n",
       "    </tr>\n",
       "    <tr>\n",
       "      <th>2</th>\n",
       "      <td>20220200258</td>\n",
       "      <td>BARUANI</td>\n",
       "      <td>DAN</td>\n",
       "      <td>35</td>\n",
       "      <td>M</td>\n",
       "      <td>52</td>\n",
       "    </tr>\n",
       "    <tr>\n",
       "      <th>3</th>\n",
       "      <td>20220200268</td>\n",
       "      <td>KIKUMA</td>\n",
       "      <td>BARON</td>\n",
       "      <td>26</td>\n",
       "      <td>F</td>\n",
       "      <td>25</td>\n",
       "    </tr>\n",
       "    <tr>\n",
       "      <th>4</th>\n",
       "      <td>20220300978</td>\n",
       "      <td>KITWA</td>\n",
       "      <td>REZA</td>\n",
       "      <td>65</td>\n",
       "      <td>M</td>\n",
       "      <td>56</td>\n",
       "    </tr>\n",
       "    <tr>\n",
       "      <th>5</th>\n",
       "      <td>20220200582</td>\n",
       "      <td>MUKINI</td>\n",
       "      <td>JEANPAUL</td>\n",
       "      <td>52</td>\n",
       "      <td>M</td>\n",
       "      <td>65</td>\n",
       "    </tr>\n",
       "    <tr>\n",
       "      <th>6</th>\n",
       "      <td>20220203333</td>\n",
       "      <td>KALULA</td>\n",
       "      <td>MOKA</td>\n",
       "      <td>41</td>\n",
       "      <td>F</td>\n",
       "      <td>77</td>\n",
       "    </tr>\n",
       "    <tr>\n",
       "      <th>7</th>\n",
       "      <td>20220200441</td>\n",
       "      <td>MASIMANGO</td>\n",
       "      <td>PRINCES</td>\n",
       "      <td>12</td>\n",
       "      <td>M</td>\n",
       "      <td>78</td>\n",
       "    </tr>\n",
       "    <tr>\n",
       "      <th>8</th>\n",
       "      <td>20220200312</td>\n",
       "      <td>KATSHOMA</td>\n",
       "      <td>FISTON</td>\n",
       "      <td>18</td>\n",
       "      <td>F</td>\n",
       "      <td>54</td>\n",
       "    </tr>\n",
       "    <tr>\n",
       "      <th>9</th>\n",
       "      <td>20220200111</td>\n",
       "      <td>BALULA</td>\n",
       "      <td>VICTOIRE</td>\n",
       "      <td>19</td>\n",
       "      <td>M</td>\n",
       "      <td>65</td>\n",
       "    </tr>\n",
       "  </tbody>\n",
       "</table>\n",
       "</div>"
      ],
      "text/plain": [
       "     Matricule        Nom    Prenom  Age Genre  Pourcentage\n",
       "0  20220200978    KITENGE    PRINCE   23     M           62\n",
       "1  20220200975     ILUNGA     ALPHA   25     F           70\n",
       "2  20220200258    BARUANI       DAN   35     M           52\n",
       "3  20220200268     KIKUMA     BARON   26     F           25\n",
       "4  20220300978      KITWA      REZA   65     M           56\n",
       "5  20220200582     MUKINI  JEANPAUL   52     M           65\n",
       "6  20220203333     KALULA      MOKA   41     F           77\n",
       "7  20220200441  MASIMANGO   PRINCES   12     M           78\n",
       "8  20220200312   KATSHOMA    FISTON   18     F           54\n",
       "9  20220200111     BALULA  VICTOIRE   19     M           65"
      ]
     },
     "execution_count": 152,
     "metadata": {},
     "output_type": "execute_result"
    }
   ],
   "source": [
    "donnees_etudiants"
   ]
  },
  {
   "cell_type": "code",
   "execution_count": 154,
   "id": "7a7be15e-7c9a-4b39-8228-6d38bf30da92",
   "metadata": {},
   "outputs": [],
   "source": [
    "# convertir la colonne Genre en M = 1 et F = 0\n",
    "# mapping de la colonne Genre\n",
    "Mapping_Genre = {\n",
    "    'M' : 1,\n",
    "    'F' : 0\n",
    "}\n",
    "\n",
    "donnees_etudiants['Genre'] = donnees_etudiants['Genre'].map(Mapping_Genre)"
   ]
  },
  {
   "cell_type": "code",
   "execution_count": 155,
   "id": "bf0461ee-e8e6-459c-9591-1c86e5fcc53d",
   "metadata": {},
   "outputs": [
    {
     "data": {
      "text/html": [
       "<div>\n",
       "<style scoped>\n",
       "    .dataframe tbody tr th:only-of-type {\n",
       "        vertical-align: middle;\n",
       "    }\n",
       "\n",
       "    .dataframe tbody tr th {\n",
       "        vertical-align: top;\n",
       "    }\n",
       "\n",
       "    .dataframe thead th {\n",
       "        text-align: right;\n",
       "    }\n",
       "</style>\n",
       "<table border=\"1\" class=\"dataframe\">\n",
       "  <thead>\n",
       "    <tr style=\"text-align: right;\">\n",
       "      <th></th>\n",
       "      <th>Matricule</th>\n",
       "      <th>Nom</th>\n",
       "      <th>Prenom</th>\n",
       "      <th>Age</th>\n",
       "      <th>Genre</th>\n",
       "      <th>Pourcentage</th>\n",
       "    </tr>\n",
       "  </thead>\n",
       "  <tbody>\n",
       "    <tr>\n",
       "      <th>0</th>\n",
       "      <td>20220200978</td>\n",
       "      <td>KITENGE</td>\n",
       "      <td>PRINCE</td>\n",
       "      <td>23</td>\n",
       "      <td>1</td>\n",
       "      <td>62</td>\n",
       "    </tr>\n",
       "    <tr>\n",
       "      <th>1</th>\n",
       "      <td>20220200975</td>\n",
       "      <td>ILUNGA</td>\n",
       "      <td>ALPHA</td>\n",
       "      <td>25</td>\n",
       "      <td>0</td>\n",
       "      <td>70</td>\n",
       "    </tr>\n",
       "    <tr>\n",
       "      <th>2</th>\n",
       "      <td>20220200258</td>\n",
       "      <td>BARUANI</td>\n",
       "      <td>DAN</td>\n",
       "      <td>35</td>\n",
       "      <td>1</td>\n",
       "      <td>52</td>\n",
       "    </tr>\n",
       "    <tr>\n",
       "      <th>3</th>\n",
       "      <td>20220200268</td>\n",
       "      <td>KIKUMA</td>\n",
       "      <td>BARON</td>\n",
       "      <td>26</td>\n",
       "      <td>0</td>\n",
       "      <td>25</td>\n",
       "    </tr>\n",
       "    <tr>\n",
       "      <th>4</th>\n",
       "      <td>20220300978</td>\n",
       "      <td>KITWA</td>\n",
       "      <td>REZA</td>\n",
       "      <td>65</td>\n",
       "      <td>1</td>\n",
       "      <td>56</td>\n",
       "    </tr>\n",
       "    <tr>\n",
       "      <th>5</th>\n",
       "      <td>20220200582</td>\n",
       "      <td>MUKINI</td>\n",
       "      <td>JEANPAUL</td>\n",
       "      <td>52</td>\n",
       "      <td>1</td>\n",
       "      <td>65</td>\n",
       "    </tr>\n",
       "    <tr>\n",
       "      <th>6</th>\n",
       "      <td>20220203333</td>\n",
       "      <td>KALULA</td>\n",
       "      <td>MOKA</td>\n",
       "      <td>41</td>\n",
       "      <td>0</td>\n",
       "      <td>77</td>\n",
       "    </tr>\n",
       "    <tr>\n",
       "      <th>7</th>\n",
       "      <td>20220200441</td>\n",
       "      <td>MASIMANGO</td>\n",
       "      <td>PRINCES</td>\n",
       "      <td>12</td>\n",
       "      <td>1</td>\n",
       "      <td>78</td>\n",
       "    </tr>\n",
       "    <tr>\n",
       "      <th>8</th>\n",
       "      <td>20220200312</td>\n",
       "      <td>KATSHOMA</td>\n",
       "      <td>FISTON</td>\n",
       "      <td>18</td>\n",
       "      <td>0</td>\n",
       "      <td>54</td>\n",
       "    </tr>\n",
       "    <tr>\n",
       "      <th>9</th>\n",
       "      <td>20220200111</td>\n",
       "      <td>BALULA</td>\n",
       "      <td>VICTOIRE</td>\n",
       "      <td>19</td>\n",
       "      <td>1</td>\n",
       "      <td>65</td>\n",
       "    </tr>\n",
       "  </tbody>\n",
       "</table>\n",
       "</div>"
      ],
      "text/plain": [
       "     Matricule        Nom    Prenom  Age  Genre  Pourcentage\n",
       "0  20220200978    KITENGE    PRINCE   23      1           62\n",
       "1  20220200975     ILUNGA     ALPHA   25      0           70\n",
       "2  20220200258    BARUANI       DAN   35      1           52\n",
       "3  20220200268     KIKUMA     BARON   26      0           25\n",
       "4  20220300978      KITWA      REZA   65      1           56\n",
       "5  20220200582     MUKINI  JEANPAUL   52      1           65\n",
       "6  20220203333     KALULA      MOKA   41      0           77\n",
       "7  20220200441  MASIMANGO   PRINCES   12      1           78\n",
       "8  20220200312   KATSHOMA    FISTON   18      0           54\n",
       "9  20220200111     BALULA  VICTOIRE   19      1           65"
      ]
     },
     "execution_count": 155,
     "metadata": {},
     "output_type": "execute_result"
    }
   ],
   "source": [
    "donnees_etudiants"
   ]
  },
  {
   "cell_type": "markdown",
   "id": "2d192e70-1a27-437d-80b1-76674b500058",
   "metadata": {},
   "source": [
    "# D. VISUALISATION DES DONNEES "
   ]
  },
  {
   "cell_type": "code",
   "execution_count": 156,
   "id": "b47b08cf-d2c2-4c4b-9e85-693a527e25b9",
   "metadata": {},
   "outputs": [],
   "source": [
    "# creation de donnees \n",
    "x = np.linspace(0, 2, 50)"
   ]
  },
  {
   "cell_type": "code",
   "execution_count": 157,
   "id": "c4b8df77-8f75-43f5-9366-bdbe9f0f9bca",
   "metadata": {},
   "outputs": [
    {
     "data": {
      "text/plain": [
       "array([0.        , 0.04081633, 0.08163265, 0.12244898, 0.16326531,\n",
       "       0.20408163, 0.24489796, 0.28571429, 0.32653061, 0.36734694,\n",
       "       0.40816327, 0.44897959, 0.48979592, 0.53061224, 0.57142857,\n",
       "       0.6122449 , 0.65306122, 0.69387755, 0.73469388, 0.7755102 ,\n",
       "       0.81632653, 0.85714286, 0.89795918, 0.93877551, 0.97959184,\n",
       "       1.02040816, 1.06122449, 1.10204082, 1.14285714, 1.18367347,\n",
       "       1.2244898 , 1.26530612, 1.30612245, 1.34693878, 1.3877551 ,\n",
       "       1.42857143, 1.46938776, 1.51020408, 1.55102041, 1.59183673,\n",
       "       1.63265306, 1.67346939, 1.71428571, 1.75510204, 1.79591837,\n",
       "       1.83673469, 1.87755102, 1.91836735, 1.95918367, 2.        ])"
      ]
     },
     "execution_count": 157,
     "metadata": {},
     "output_type": "execute_result"
    }
   ],
   "source": [
    "x"
   ]
  },
  {
   "cell_type": "code",
   "execution_count": 179,
   "id": "7cb48cfb-25a7-44d5-bbf4-d8accab1bf85",
   "metadata": {},
   "outputs": [],
   "source": [
    "# importer Matplotlib\n",
    "import matplotlib. pyplot as plt"
   ]
  },
  {
   "cell_type": "code",
   "execution_count": 186,
   "id": "942f1087-3c93-47f7-8530-bb5a2c9383b3",
   "metadata": {},
   "outputs": [
    {
     "data": {
      "text/plain": [
       "<matplotlib.legend.Legend at 0x1d31c8ec710>"
      ]
     },
     "execution_count": 186,
     "metadata": {},
     "output_type": "execute_result"
    },
    {
     "data": {
      "image/png": "[encoded data removed]",
      "text/plain": [
       "<Figure size 600x400 with 1 Axes>"
      ]
     },
     "metadata": {},
     "output_type": "display_data"
    }
   ],
   "source": [
    "fig, ax =plt.subplots(figsize=(6, 4))\n",
    "ax.plot(x, x*2, label='Double')\n",
    "ax.plot(x, x**2, label='carre de x')\n",
    "ax.plot(x, x**3, label='cube de x')\n",
    "ax.set_xlabel('donnees de x')\n",
    "ax.set_ylabel('donnees de y')\n",
    "plt.title('Donnees de linspace entree 0 et 2')\n",
    "ax.legend()\n"
   ]
  },
  {
   "cell_type": "code",
   "execution_count": 187,
   "id": "1ddf9489-07da-444d-a2fa-83fff096220a",
   "metadata": {},
   "outputs": [],
   "source": [
    "# importation de seaborn\n",
    "import seaborn as sns"
   ]
  },
  {
   "cell_type": "code",
   "execution_count": 195,
   "id": "b7780f45-2713-474d-81f4-58f1ff6fe22e",
   "metadata": {},
   "outputs": [],
   "source": [
    "iris_data = sns.load_dataset('iris')"
   ]
  },
  {
   "cell_type": "code",
   "execution_count": 196,
   "id": "3b7ad0ac-6be1-46c0-95da-39e59f1fcbdb",
   "metadata": {},
   "outputs": [
    {
     "data": {
      "text/html": [
       "<div>\n",
       "<style scoped>\n",
       "    .dataframe tbody tr th:only-of-type {\n",
       "        vertical-align: middle;\n",
       "    }\n",
       "\n",
       "    .dataframe tbody tr th {\n",
       "        vertical-align: top;\n",
       "    }\n",
       "\n",
       "    .dataframe thead th {\n",
       "        text-align: right;\n",
       "    }\n",
       "</style>\n",
       "<table border=\"1\" class=\"dataframe\">\n",
       "  <thead>\n",
       "    <tr style=\"text-align: right;\">\n",
       "      <th></th>\n",
       "      <th>sepal_length</th>\n",
       "      <th>sepal_width</th>\n",
       "      <th>petal_length</th>\n",
       "      <th>petal_width</th>\n",
       "      <th>species</th>\n",
       "    </tr>\n",
       "  </thead>\n",
       "  <tbody>\n",
       "    <tr>\n",
       "      <th>0</th>\n",
       "      <td>5.1</td>\n",
       "      <td>3.5</td>\n",
       "      <td>1.4</td>\n",
       "      <td>0.2</td>\n",
       "      <td>setosa</td>\n",
       "    </tr>\n",
       "    <tr>\n",
       "      <th>1</th>\n",
       "      <td>4.9</td>\n",
       "      <td>3.0</td>\n",
       "      <td>1.4</td>\n",
       "      <td>0.2</td>\n",
       "      <td>setosa</td>\n",
       "    </tr>\n",
       "    <tr>\n",
       "      <th>2</th>\n",
       "      <td>4.7</td>\n",
       "      <td>3.2</td>\n",
       "      <td>1.3</td>\n",
       "      <td>0.2</td>\n",
       "      <td>setosa</td>\n",
       "    </tr>\n",
       "    <tr>\n",
       "      <th>3</th>\n",
       "      <td>4.6</td>\n",
       "      <td>3.1</td>\n",
       "      <td>1.5</td>\n",
       "      <td>0.2</td>\n",
       "      <td>setosa</td>\n",
       "    </tr>\n",
       "    <tr>\n",
       "      <th>4</th>\n",
       "      <td>5.0</td>\n",
       "      <td>3.6</td>\n",
       "      <td>1.4</td>\n",
       "      <td>0.2</td>\n",
       "      <td>setosa</td>\n",
       "    </tr>\n",
       "  </tbody>\n",
       "</table>\n",
       "</div>"
      ],
      "text/plain": [
       "   sepal_length  sepal_width  petal_length  petal_width species\n",
       "0           5.1          3.5           1.4          0.2  setosa\n",
       "1           4.9          3.0           1.4          0.2  setosa\n",
       "2           4.7          3.2           1.3          0.2  setosa\n",
       "3           4.6          3.1           1.5          0.2  setosa\n",
       "4           5.0          3.6           1.4          0.2  setosa"
      ]
     },
     "execution_count": 196,
     "metadata": {},
     "output_type": "execute_result"
    }
   ],
   "source": [
    "iris_data.head()"
   ]
  },
  {
   "cell_type": "code",
   "execution_count": 197,
   "id": "52711cb5-305d-4191-accf-3ce96a4ad063",
   "metadata": {},
   "outputs": [
    {
     "data": {
      "text/plain": [
       "(150, 5)"
      ]
     },
     "execution_count": 197,
     "metadata": {},
     "output_type": "execute_result"
    }
   ],
   "source": [
    "iris_data.shape"
   ]
  },
  {
   "cell_type": "code",
   "execution_count": 198,
   "id": "462e197a-6d75-4feb-9fbf-a0b502180435",
   "metadata": {},
   "outputs": [
    {
     "data": {
      "text/plain": [
       "array(['setosa', 'versicolor', 'virginica'], dtype=object)"
      ]
     },
     "execution_count": 198,
     "metadata": {},
     "output_type": "execute_result"
    }
   ],
   "source": [
    "iris_data['species'].unique()"
   ]
  },
  {
   "cell_type": "code",
   "execution_count": 200,
   "id": "36c4a30c-a637-4cbd-b635-8f7581434462",
   "metadata": {},
   "outputs": [
    {
     "data": {
      "text/plain": [
       "<Axes: xlabel='sepal_length', ylabel='sepal_width'>"
      ]
     },
     "execution_count": 200,
     "metadata": {},
     "output_type": "execute_result"
    },
    {
     "data": {
      "image/png": "[encoded data removed]",
      "text/plain": [
       "<Figure size 640x480 with 1 Axes>"
      ]
     },
     "metadata": {},
     "output_type": "display_data"
    }
   ],
   "source": [
    "sns.scatterplot(x='sepal_length', y='sepal_width', data=iris_data, hue='species')"
   ]
  },
  {
   "cell_type": "code",
   "execution_count": 201,
   "id": "1e30243f-3b57-484c-97ab-57c92fefa632",
   "metadata": {},
   "outputs": [],
   "source": [
    "Mapping_species = {\n",
    "    'setosa' : 0,\n",
    "    'versicolor' : 1,\n",
    "    'virginica' : 2\n",
    "}\n",
    "iris_data['species'] = iris_data['species'].map(Mapping_species)"
   ]
  },
  {
   "cell_type": "code",
   "execution_count": 202,
   "id": "81d4e913-ed2a-489c-8788-20a82da992e9",
   "metadata": {},
   "outputs": [
    {
     "data": {
      "text/html": [
       "<div>\n",
       "<style scoped>\n",
       "    .dataframe tbody tr th:only-of-type {\n",
       "        vertical-align: middle;\n",
       "    }\n",
       "\n",
       "    .dataframe tbody tr th {\n",
       "        vertical-align: top;\n",
       "    }\n",
       "\n",
       "    .dataframe thead th {\n",
       "        text-align: right;\n",
       "    }\n",
       "</style>\n",
       "<table border=\"1\" class=\"dataframe\">\n",
       "  <thead>\n",
       "    <tr style=\"text-align: right;\">\n",
       "      <th></th>\n",
       "      <th>sepal_length</th>\n",
       "      <th>sepal_width</th>\n",
       "      <th>petal_length</th>\n",
       "      <th>petal_width</th>\n",
       "      <th>species</th>\n",
       "    </tr>\n",
       "  </thead>\n",
       "  <tbody>\n",
       "    <tr>\n",
       "      <th>0</th>\n",
       "      <td>5.1</td>\n",
       "      <td>3.5</td>\n",
       "      <td>1.4</td>\n",
       "      <td>0.2</td>\n",
       "      <td>0</td>\n",
       "    </tr>\n",
       "    <tr>\n",
       "      <th>1</th>\n",
       "      <td>4.9</td>\n",
       "      <td>3.0</td>\n",
       "      <td>1.4</td>\n",
       "      <td>0.2</td>\n",
       "      <td>0</td>\n",
       "    </tr>\n",
       "    <tr>\n",
       "      <th>2</th>\n",
       "      <td>4.7</td>\n",
       "      <td>3.2</td>\n",
       "      <td>1.3</td>\n",
       "      <td>0.2</td>\n",
       "      <td>0</td>\n",
       "    </tr>\n",
       "    <tr>\n",
       "      <th>3</th>\n",
       "      <td>4.6</td>\n",
       "      <td>3.1</td>\n",
       "      <td>1.5</td>\n",
       "      <td>0.2</td>\n",
       "      <td>0</td>\n",
       "    </tr>\n",
       "    <tr>\n",
       "      <th>4</th>\n",
       "      <td>5.0</td>\n",
       "      <td>3.6</td>\n",
       "      <td>1.4</td>\n",
       "      <td>0.2</td>\n",
       "      <td>0</td>\n",
       "    </tr>\n",
       "    <tr>\n",
       "      <th>...</th>\n",
       "      <td>...</td>\n",
       "      <td>...</td>\n",
       "      <td>...</td>\n",
       "      <td>...</td>\n",
       "      <td>...</td>\n",
       "    </tr>\n",
       "    <tr>\n",
       "      <th>145</th>\n",
       "      <td>6.7</td>\n",
       "      <td>3.0</td>\n",
       "      <td>5.2</td>\n",
       "      <td>2.3</td>\n",
       "      <td>2</td>\n",
       "    </tr>\n",
       "    <tr>\n",
       "      <th>146</th>\n",
       "      <td>6.3</td>\n",
       "      <td>2.5</td>\n",
       "      <td>5.0</td>\n",
       "      <td>1.9</td>\n",
       "      <td>2</td>\n",
       "    </tr>\n",
       "    <tr>\n",
       "      <th>147</th>\n",
       "      <td>6.5</td>\n",
       "      <td>3.0</td>\n",
       "      <td>5.2</td>\n",
       "      <td>2.0</td>\n",
       "      <td>2</td>\n",
       "    </tr>\n",
       "    <tr>\n",
       "      <th>148</th>\n",
       "      <td>6.2</td>\n",
       "      <td>3.4</td>\n",
       "      <td>5.4</td>\n",
       "      <td>2.3</td>\n",
       "      <td>2</td>\n",
       "    </tr>\n",
       "    <tr>\n",
       "      <th>149</th>\n",
       "      <td>5.9</td>\n",
       "      <td>3.0</td>\n",
       "      <td>5.1</td>\n",
       "      <td>1.8</td>\n",
       "      <td>2</td>\n",
       "    </tr>\n",
       "  </tbody>\n",
       "</table>\n",
       "<p>150 rows × 5 columns</p>\n",
       "</div>"
      ],
      "text/plain": [
       "     sepal_length  sepal_width  petal_length  petal_width  species\n",
       "0             5.1          3.5           1.4          0.2        0\n",
       "1             4.9          3.0           1.4          0.2        0\n",
       "2             4.7          3.2           1.3          0.2        0\n",
       "3             4.6          3.1           1.5          0.2        0\n",
       "4             5.0          3.6           1.4          0.2        0\n",
       "..            ...          ...           ...          ...      ...\n",
       "145           6.7          3.0           5.2          2.3        2\n",
       "146           6.3          2.5           5.0          1.9        2\n",
       "147           6.5          3.0           5.2          2.0        2\n",
       "148           6.2          3.4           5.4          2.3        2\n",
       "149           5.9          3.0           5.1          1.8        2\n",
       "\n",
       "[150 rows x 5 columns]"
      ]
     },
     "execution_count": 202,
     "metadata": {},
     "output_type": "execute_result"
    }
   ],
   "source": [
    "iris_data"
   ]
  },
  {
   "cell_type": "code",
   "execution_count": 203,
   "id": "05578739-460e-4c3c-9726-346c82b3cd01",
   "metadata": {},
   "outputs": [
    {
     "data": {
      "text/plain": [
       "array([0, 1, 2])"
      ]
     },
     "execution_count": 203,
     "metadata": {},
     "output_type": "execute_result"
    }
   ],
   "source": [
    "iris_data['species'].unique()"
   ]
  },
  {
   "cell_type": "code",
   "execution_count": null,
   "id": "86f2982a-e30f-4942-9b45-57d58a564805",
   "metadata": {},
   "outputs": [],
   "source": []
  }
 ],
 "metadata": {
  "kernelspec": {
   "display_name": "Python 3 (ipykernel)",
   "language": "python",
   "name": "python3"
  },
  "language_info": {
   "codemirror_mode": {
    "name": "ipython",
    "version": 3
   },
   "file_extension": ".py",
   "mimetype": "text/x-python",
   "name": "python",
   "nbconvert_exporter": "python",
   "pygments_lexer": "ipython3",
   "version": "3.12.8"
  }
 },
 "nbformat": 4,
 "nbformat_minor": 5
}
